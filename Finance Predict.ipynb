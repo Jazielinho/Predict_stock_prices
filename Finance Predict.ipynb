{
 "cells": [
  {
   "cell_type": "code",
   "execution_count": 1,
   "metadata": {},
   "outputs": [],
   "source": [
    "# Analisis de datos\n",
    "import pandas as pd\n",
    "import os\n",
    "import numpy as np\n",
    "import datetime\n",
    "import matplotlib.pyplot as plt\n",
    "from sklearn.preprocessing import MinMaxScaler\n",
    "\n",
    "# Machine learning\n",
    "from sklearn.ensemble import RandomForestRegressor\n",
    "from sklearn.linear_model import ElasticNet\n",
    "from xgboost import XGBRegressor\n",
    "\n",
    "from tqdm import trange\n",
    "\n",
    "# Datos financieros\n",
    "from pandas_datareader import data as pdr\n",
    "import yfinance as yf\n",
    "\n",
    "import datetime\n",
    "\n",
    "from sklearn.metrics import mean_absolute_error, mean_squared_error, mean_squared_log_error, median_absolute_error"
   ]
  },
  {
   "cell_type": "code",
   "execution_count": 2,
   "metadata": {},
   "outputs": [],
   "source": [
    "# PARAMETROS\n",
    "DATA = 'AAPL.csv'\n",
    "TARGET = 'Adj Close'\n",
    "N_TEST = 60"
   ]
  },
  {
   "cell_type": "code",
   "execution_count": 3,
   "metadata": {},
   "outputs": [
    {
     "name": "stdout",
     "output_type": "stream",
     "text": [
      "[*********************100%***********************]  1 of 1 downloaded\n"
     ]
    },
    {
     "data": {
      "text/html": [
       "<div>\n",
       "<style scoped>\n",
       "    .dataframe tbody tr th:only-of-type {\n",
       "        vertical-align: middle;\n",
       "    }\n",
       "\n",
       "    .dataframe tbody tr th {\n",
       "        vertical-align: top;\n",
       "    }\n",
       "\n",
       "    .dataframe thead th {\n",
       "        text-align: right;\n",
       "    }\n",
       "</style>\n",
       "<table border=\"1\" class=\"dataframe\">\n",
       "  <thead>\n",
       "    <tr style=\"text-align: right;\">\n",
       "      <th></th>\n",
       "      <th>Date</th>\n",
       "      <th>Open</th>\n",
       "      <th>High</th>\n",
       "      <th>Low</th>\n",
       "      <th>Close</th>\n",
       "      <th>Adj Close</th>\n",
       "      <th>Volume</th>\n",
       "    </tr>\n",
       "  </thead>\n",
       "  <tbody>\n",
       "    <tr>\n",
       "      <td>0</td>\n",
       "      <td>1999-12-31</td>\n",
       "      <td>3.60</td>\n",
       "      <td>3.67</td>\n",
       "      <td>3.55</td>\n",
       "      <td>3.67</td>\n",
       "      <td>3.20</td>\n",
       "      <td>40952800</td>\n",
       "    </tr>\n",
       "    <tr>\n",
       "      <td>1</td>\n",
       "      <td>2000-01-03</td>\n",
       "      <td>3.75</td>\n",
       "      <td>4.02</td>\n",
       "      <td>3.63</td>\n",
       "      <td>4.00</td>\n",
       "      <td>3.49</td>\n",
       "      <td>133949200</td>\n",
       "    </tr>\n",
       "    <tr>\n",
       "      <td>2</td>\n",
       "      <td>2000-01-04</td>\n",
       "      <td>3.87</td>\n",
       "      <td>3.95</td>\n",
       "      <td>3.61</td>\n",
       "      <td>3.66</td>\n",
       "      <td>3.19</td>\n",
       "      <td>128094400</td>\n",
       "    </tr>\n",
       "    <tr>\n",
       "      <td>3</td>\n",
       "      <td>2000-01-05</td>\n",
       "      <td>3.71</td>\n",
       "      <td>3.95</td>\n",
       "      <td>3.68</td>\n",
       "      <td>3.71</td>\n",
       "      <td>3.24</td>\n",
       "      <td>194580400</td>\n",
       "    </tr>\n",
       "    <tr>\n",
       "      <td>4</td>\n",
       "      <td>2000-01-06</td>\n",
       "      <td>3.79</td>\n",
       "      <td>3.82</td>\n",
       "      <td>3.39</td>\n",
       "      <td>3.39</td>\n",
       "      <td>2.96</td>\n",
       "      <td>191993200</td>\n",
       "    </tr>\n",
       "  </tbody>\n",
       "</table>\n",
       "</div>"
      ],
      "text/plain": [
       "        Date  Open  High   Low  Close  Adj Close     Volume\n",
       "0 1999-12-31  3.60  3.67  3.55   3.67       3.20   40952800\n",
       "1 2000-01-03  3.75  4.02  3.63   4.00       3.49  133949200\n",
       "2 2000-01-04  3.87  3.95  3.61   3.66       3.19  128094400\n",
       "3 2000-01-05  3.71  3.95  3.68   3.71       3.24  194580400\n",
       "4 2000-01-06  3.79  3.82  3.39   3.39       2.96  191993200"
      ]
     },
     "execution_count": 3,
     "metadata": {},
     "output_type": "execute_result"
    }
   ],
   "source": [
    "yf.pdr_override()\n",
    "dataframe = pdr.get_data_yahoo('AAPL', start='2000-01-01', end='2019-09-02').reset_index()\n",
    "dataframe.to_csv('AAPL.csv', index=False)\n",
    "dataframe.head()"
   ]
  },
  {
   "cell_type": "code",
   "execution_count": 4,
   "metadata": {},
   "outputs": [],
   "source": [
    "price_df = pd.read_csv('AAPL.csv')"
   ]
  },
  {
   "cell_type": "code",
   "execution_count": 5,
   "metadata": {},
   "outputs": [],
   "source": [
    "price_df['Date'] = price_df['Date'].apply(lambda x: datetime.datetime.strptime(x, '%Y-%m-%d'))"
   ]
  },
  {
   "cell_type": "code",
   "execution_count": 6,
   "metadata": {},
   "outputs": [
    {
     "data": {
      "text/plain": [
       "<matplotlib.axes._subplots.AxesSubplot at 0x1dd95f6a0f0>"
      ]
     },
     "execution_count": 6,
     "metadata": {},
     "output_type": "execute_result"
    },
    {
     "data": {
      "image/png": "[encoded data removed]",
      "text/plain": [
       "<matplotlib.figure.Figure at 0x1ddffd322b0>"
      ]
     },
     "metadata": {
      "needs_background": "light"
     },
     "output_type": "display_data"
    }
   ],
   "source": [
    "ts_serie = price_df.set_index('Date')[TARGET]\n",
    "ts_serie.sort_index(inplace=True)\n",
    "ts_serie.plot()"
   ]
  },
  {
   "cell_type": "code",
   "execution_count": 7,
   "metadata": {},
   "outputs": [],
   "source": [
    "N_TRAIN = len(ts_serie) - N_TEST\n",
    "train_serie = ts_serie[:N_TRAIN]\n",
    "test_serie = ts_serie[(-1) * N_TEST:]"
   ]
  },
  {
   "cell_type": "code",
   "execution_count": 8,
   "metadata": {},
   "outputs": [
    {
     "data": {
      "text/plain": [
       "<matplotlib.axes._subplots.AxesSubplot at 0x1dd9660eda0>"
      ]
     },
     "execution_count": 8,
     "metadata": {},
     "output_type": "execute_result"
    },
    {
     "data": {
      "image/png": "[encoded data removed]",
      "text/plain": [
       "<matplotlib.figure.Figure at 0x1dd95fcc710>"
      ]
     },
     "metadata": {
      "needs_background": "light"
     },
     "output_type": "display_data"
    }
   ],
   "source": [
    "train_serie.plot()\n",
    "test_serie.plot()"
   ]
  },
  {
   "cell_type": "code",
   "execution_count": 9,
   "metadata": {},
   "outputs": [],
   "source": [
    "# Transformando los datos en rangos 0-1\n",
    "min_max = MinMaxScaler()\n",
    "min_max.fit(train_serie.values.reshape(-1,1))\n",
    "scale_train = min_max.transform(train_serie.values.reshape(-1,1))\n",
    "scale_test = min_max.transform(test_serie.values.reshape(-1,1))\n",
    "scale_train = scale_train.reshape(len(scale_train))\n",
    "scale_test = scale_test.reshape(len(scale_test))"
   ]
  },
  {
   "cell_type": "code",
   "execution_count": 10,
   "metadata": {},
   "outputs": [],
   "source": [
    "# Creando dataset\n",
    "def create_dataset(dataset, look_back=1):\n",
    "    # Crea un dataset con un periodo de entrenamiento\n",
    "    dataX, dataY = [], []\n",
    "    for i in range(len(dataset) - look_back):\n",
    "        a = dataset[i:(i + look_back)]\n",
    "        dataX.append(a)\n",
    "        dataY.append(dataset[i + look_back])\n",
    "    return np.array(dataX), np.array(dataY)\n",
    "\n",
    "def make_forecast_classic(model, look_back_buffer, timesteps: int = 1):\n",
    "    # Predice para un modelo entrenado\n",
    "    forecast_predict = []\n",
    "    for _ in trange(timesteps, desc='predicting data\\t', mininterval=1.0):\n",
    "        # make prediction with current lookback buffer\n",
    "        cur_predict = model.predict(look_back_buffer)\n",
    "        # add prediction to result\n",
    "        forecast_predict = forecast_predict + cur_predict.tolist()\n",
    "        # add new axis to prediction to make it suitable as input\n",
    "        cur_predict = np.reshape(cur_predict, (cur_predict.shape[0], 1))\n",
    "        # remove oldest prediction from buffer\n",
    "        look_back_buffer = np.delete(look_back_buffer, 0, axis=1)\n",
    "        # concat buffer with newest prediction\n",
    "        look_back_buffer = np.concatenate([look_back_buffer, cur_predict], axis=1)\n",
    "    return np.array(forecast_predict)"
   ]
  },
  {
   "cell_type": "code",
   "execution_count": 11,
   "metadata": {},
   "outputs": [],
   "source": [
    "train_input, target_train = create_dataset(scale_train, 60)"
   ]
  },
  {
   "cell_type": "code",
   "execution_count": 12,
   "metadata": {},
   "outputs": [
    {
     "data": {
      "text/plain": [
       "(4828, 60)"
      ]
     },
     "execution_count": 12,
     "metadata": {},
     "output_type": "execute_result"
    }
   ],
   "source": [
    "train_input.shape"
   ]
  },
  {
   "cell_type": "code",
   "execution_count": 13,
   "metadata": {},
   "outputs": [
    {
     "name": "stderr",
     "output_type": "stream",
     "text": [
      "predicting data\t: 100%|█████████████████████████████████████████████████████████████| 60/60 [00:00<00:00, 10025.83it/s]\n"
     ]
    }
   ],
   "source": [
    "# Elastic Net\n",
    "modelo_classic_en = ElasticNet(l1_ratio=0.1, alpha=0.1)\n",
    "modelo_classic_en.fit(train_input, target_train)\n",
    "pred_test_en = make_forecast_classic(modelo_classic_en, train_input[-1::], timesteps=N_TEST)"
   ]
  },
  {
   "cell_type": "code",
   "execution_count": 14,
   "metadata": {},
   "outputs": [
    {
     "name": "stderr",
     "output_type": "stream",
     "text": [
      "predicting data\t: 100%|████████████████████████████████████████████████████████████████| 60/60 [00:07<00:00,  7.71it/s]\n"
     ]
    }
   ],
   "source": [
    "# Random Forest\n",
    "modelo_classic_rf = RandomForestRegressor(n_estimators=1000,\n",
    "                                          n_jobs=-1,\n",
    "                                          oob_score=True,\n",
    "                                          verbose=False)\n",
    "modelo_classic_rf.fit(train_input, target_train)\n",
    "pred_test_rf = make_forecast_classic(modelo_classic_rf, train_input[-1::], timesteps=N_TEST)"
   ]
  },
  {
   "cell_type": "code",
   "execution_count": 15,
   "metadata": {},
   "outputs": [
    {
     "name": "stderr",
     "output_type": "stream",
     "text": [
      "predicting data\t: 100%|██████████████████████████████████████████████████████████████| 60/60 [00:00<00:00, 3539.00it/s]\n"
     ]
    }
   ],
   "source": [
    "# Xgboost\n",
    "modelo_classic_xgb = XGBRegressor(max_depth=4,\n",
    "                                  learning_rate=0.01, \n",
    "                                  n_estimators=1500,\n",
    "                                  n_jobs=-1)\n",
    "modelo_classic_xgb.fit(train_input, target_train)\n",
    "pred_test_xgb = make_forecast_classic(modelo_classic_xgb, train_input[-1::], timesteps=N_TEST)"
   ]
  },
  {
   "cell_type": "code",
   "execution_count": 16,
   "metadata": {},
   "outputs": [],
   "source": [
    "df_test = pd.DataFrame({\n",
    "    'target': min_max.inverse_transform(scale_test.reshape(-1,1)).reshape(len(scale_test)),\n",
    "    'pred_rf': min_max.inverse_transform(pred_test_rf.reshape(-1,1)).reshape(len(scale_test)),\n",
    "    'pred_en': min_max.inverse_transform(pred_test_en.reshape(-1,1)).reshape(len(scale_test)),\n",
    "    'pred_xgb': min_max.inverse_transform(pred_test_xgb.reshape(-1,1)).reshape(len(scale_test))\n",
    "})"
   ]
  },
  {
   "cell_type": "code",
   "execution_count": 17,
   "metadata": {},
   "outputs": [
    {
     "data": {
      "text/plain": [
       "<matplotlib.axes._subplots.AxesSubplot at 0x1dd961bcf60>"
      ]
     },
     "execution_count": 17,
     "metadata": {},
     "output_type": "execute_result"
    },
    {
     "data": {
      "image/png": "[encoded data removed]",
      "text/plain": [
       "<matplotlib.figure.Figure at 0x1dd9608be80>"
      ]
     },
     "metadata": {
      "needs_background": "light"
     },
     "output_type": "display_data"
    }
   ],
   "source": [
    "df_test.plot()"
   ]
  },
  {
   "cell_type": "code",
   "execution_count": 18,
   "metadata": {},
   "outputs": [
    {
     "name": "stdout",
     "output_type": "stream",
     "text": [
      "13.786666744378708\n",
      "211.8906169307712\n",
      "0.005410600938508397\n",
      "13.063068101191007\n"
     ]
    }
   ],
   "source": [
    "print(mean_absolute_error(df_test['target'], df_test['pred_rf']))\n",
    "print(mean_squared_error(df_test['target'], df_test['pred_rf']))\n",
    "print(mean_squared_log_error(df_test['target'], df_test['pred_rf']))\n",
    "print(median_absolute_error(df_test['target'], df_test['pred_rf']))"
   ]
  },
  {
   "cell_type": "code",
   "execution_count": 19,
   "metadata": {},
   "outputs": [
    {
     "name": "stdout",
     "output_type": "stream",
     "text": [
      "52.557323908808144\n",
      "3005.508288836644\n",
      "0.10017528746563202\n",
      "52.48908422414691\n"
     ]
    }
   ],
   "source": [
    "print(mean_absolute_error(df_test['target'], df_test['pred_en']))\n",
    "print(mean_squared_error(df_test['target'], df_test['pred_en']))\n",
    "print(mean_squared_log_error(df_test['target'], df_test['pred_en']))\n",
    "print(median_absolute_error(df_test['target'], df_test['pred_en']))"
   ]
  },
  {
   "cell_type": "code",
   "execution_count": 20,
   "metadata": {},
   "outputs": [
    {
     "name": "stdout",
     "output_type": "stream",
     "text": [
      "13.195661640902324\n",
      "198.86036475594386\n",
      "0.005054105550391516\n",
      "13.23115763843056\n"
     ]
    }
   ],
   "source": [
    "print(mean_absolute_error(df_test['target'], df_test['pred_xgb']))\n",
    "print(mean_squared_error(df_test['target'], df_test['pred_xgb']))\n",
    "print(mean_squared_log_error(df_test['target'], df_test['pred_xgb']))\n",
    "print(median_absolute_error(df_test['target'], df_test['pred_xgb']))"
   ]
  },
  {
   "cell_type": "code",
   "execution_count": null,
   "metadata": {},
   "outputs": [],
   "source": []
  }
 ],
 "metadata": {
  "kernelspec": {
   "display_name": "Python 3",
   "language": "python",
   "name": "python3"
  },
  "language_info": {
   "codemirror_mode": {
    "name": "ipython",
    "version": 3
   },
   "file_extension": ".py",
   "mimetype": "text/x-python",
   "name": "python",
   "nbconvert_exporter": "python",
   "pygments_lexer": "ipython3",
   "version": "3.6.8"
  }
 },
 "nbformat": 4,
 "nbformat_minor": 2
}
